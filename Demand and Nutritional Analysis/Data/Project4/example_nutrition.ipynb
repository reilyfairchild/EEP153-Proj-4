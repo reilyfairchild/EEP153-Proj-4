{
 "cells": [
  {
   "cell_type": "markdown",
   "id": "826a8a83-a6e4-4b3e-93e9-6b6f46becb7f",
   "metadata": {},
   "source": [
    "## Nutrient Demands\n",
    "\n"
   ]
  },
  {
   "cell_type": "markdown",
   "id": "97e1a220-2d15-4fbc-8e97-c13d336dd077",
   "metadata": {},
   "source": [
    "### Introduction\n",
    "\n"
   ]
  },
  {
   "cell_type": "markdown",
   "id": "a5763b03-de15-4181-8ed6-c586be69e0ca",
   "metadata": {},
   "source": [
    "In our last project we used data to estimate systems of food demand\n",
    "using different datasets.  An output from that project was as set of\n",
    "`cfe.Regression` objects; these bundle together both data and the results\n",
    "from the demand system estimation, and can be used for prediction as\n",
    "well.\n",
    "\n",
    "Here we&rsquo;ll explore some of the uses of the `cfe.Regression` class, using\n",
    "an instance created previously (as in Project 3).\n",
    "\n",
    "After having estimated a demand system using data from our favorite country, we can imagine different counterfactual scenarios.  What if prices were different?  What if we give a cash transfer to a household?  What if school fees reduce the budget for food?  What are the consequences of any of these for diet & nutrition?\n",
    "\n",
    "If you don&rsquo;t already have the latest version of the `CFEDemands` package\n",
    "installed, grab it, along with some dependencies:\n",
    "\n"
   ]
  },
  {
   "cell_type": "code",
   "execution_count": 1,
   "id": "1307d9b8-e2ee-4a92-892e-9a311af9b0c9",
   "metadata": {},
   "outputs": [
    {
     "name": "stdout",
     "output_type": "stream",
     "text": [
      "Requirement already satisfied: CFEDemands>=0.4.1 in /srv/conda/lib/python3.11/site-packages (from -r requirements.txt (line 5)) (0.6.4.dev0)\n",
      "Requirement already satisfied: gspread>=5.0.1 in /srv/conda/lib/python3.11/site-packages (from -r requirements.txt (line 7)) (5.12.4)\n",
      "Requirement already satisfied: gspread_pandas>=3.2.0 in /srv/conda/lib/python3.11/site-packages (from -r requirements.txt (line 8)) (3.3.0)\n",
      "Requirement already satisfied: oauth2client>=4.1.3 in /srv/conda/lib/python3.11/site-packages (from -r requirements.txt (line 11)) (4.1.3)\n",
      "Requirement already satisfied: eep153_tools>=0.11 in /srv/conda/lib/python3.11/site-packages (from -r requirements.txt (line 21)) (0.12.4)\n",
      "Requirement already satisfied: python-gnupg in /srv/conda/lib/python3.11/site-packages (from -r requirements.txt (line 22)) (0.5.4)\n",
      "Requirement already satisfied: ConsumerDemands in /srv/conda/lib/python3.11/site-packages (from -r requirements.txt (line 24)) (0.4.3.dev0)\n",
      "Requirement already satisfied: matplotlib>=3.5.1 in /srv/conda/lib/python3.11/site-packages (from CFEDemands>=0.4.1->-r requirements.txt (line 5)) (3.10.1)\n",
      "Requirement already satisfied: numpy>=1.21.5 in /srv/conda/lib/python3.11/site-packages (from CFEDemands>=0.4.1->-r requirements.txt (line 5)) (2.2.5)\n",
      "Requirement already satisfied: pandas>=1.3.5 in /srv/conda/lib/python3.11/site-packages (from CFEDemands>=0.4.1->-r requirements.txt (line 5)) (2.2.3)\n",
      "Requirement already satisfied: scipy>=1.7.3 in /srv/conda/lib/python3.11/site-packages (from CFEDemands>=0.4.1->-r requirements.txt (line 5)) (1.14.1)\n",
      "Requirement already satisfied: importlib_metadata>=6.7.0 in /srv/conda/lib/python3.11/site-packages (from CFEDemands>=0.4.1->-r requirements.txt (line 5)) (8.6.1)\n",
      "Requirement already satisfied: fsspec in /srv/conda/lib/python3.11/site-packages (from CFEDemands>=0.4.1->-r requirements.txt (line 5)) (2025.3.2)\n",
      "Requirement already satisfied: google-auth>=1.12.0 in /srv/conda/lib/python3.11/site-packages (from gspread>=5.0.1->-r requirements.txt (line 7)) (2.39.0)\n",
      "Requirement already satisfied: google-auth-oauthlib>=0.4.1 in /srv/conda/lib/python3.11/site-packages (from gspread>=5.0.1->-r requirements.txt (line 7)) (1.2.1)\n",
      "Requirement already satisfied: decorator in /srv/conda/lib/python3.11/site-packages (from gspread_pandas>=3.2.0->-r requirements.txt (line 8)) (5.1.1)\n",
      "Requirement already satisfied: httplib2>=0.9.1 in /srv/conda/lib/python3.11/site-packages (from oauth2client>=4.1.3->-r requirements.txt (line 11)) (0.22.0)\n",
      "Requirement already satisfied: pyasn1>=0.1.7 in /srv/conda/lib/python3.11/site-packages (from oauth2client>=4.1.3->-r requirements.txt (line 11)) (0.6.1)\n",
      "Requirement already satisfied: pyasn1-modules>=0.0.5 in /srv/conda/lib/python3.11/site-packages (from oauth2client>=4.1.3->-r requirements.txt (line 11)) (0.4.2)\n",
      "Requirement already satisfied: rsa>=3.1.4 in /srv/conda/lib/python3.11/site-packages (from oauth2client>=4.1.3->-r requirements.txt (line 11)) (4.9.1)\n",
      "Requirement already satisfied: six>=1.6.1 in /srv/conda/lib/python3.11/site-packages (from oauth2client>=4.1.3->-r requirements.txt (line 11)) (1.17.0)\n",
      "Requirement already satisfied: cachetools<6.0,>=2.0.0 in /srv/conda/lib/python3.11/site-packages (from google-auth>=1.12.0->gspread>=5.0.1->-r requirements.txt (line 7)) (5.5.2)\n",
      "Requirement already satisfied: requests-oauthlib>=0.7.0 in /srv/conda/lib/python3.11/site-packages (from google-auth-oauthlib>=0.4.1->gspread>=5.0.1->-r requirements.txt (line 7)) (2.0.0)\n",
      "Requirement already satisfied: pyparsing!=3.0.0,!=3.0.1,!=3.0.2,!=3.0.3,<4,>=2.4.2 in /srv/conda/lib/python3.11/site-packages (from httplib2>=0.9.1->oauth2client>=4.1.3->-r requirements.txt (line 11)) (3.2.3)\n",
      "Requirement already satisfied: zipp>=3.20 in /srv/conda/lib/python3.11/site-packages (from importlib_metadata>=6.7.0->CFEDemands>=0.4.1->-r requirements.txt (line 5)) (3.21.0)\n",
      "Requirement already satisfied: contourpy>=1.0.1 in /srv/conda/lib/python3.11/site-packages (from matplotlib>=3.5.1->CFEDemands>=0.4.1->-r requirements.txt (line 5)) (1.3.2)\n",
      "Requirement already satisfied: cycler>=0.10 in /srv/conda/lib/python3.11/site-packages (from matplotlib>=3.5.1->CFEDemands>=0.4.1->-r requirements.txt (line 5)) (0.12.1)\n",
      "Requirement already satisfied: fonttools>=4.22.0 in /srv/conda/lib/python3.11/site-packages (from matplotlib>=3.5.1->CFEDemands>=0.4.1->-r requirements.txt (line 5)) (4.57.0)\n",
      "Requirement already satisfied: kiwisolver>=1.3.1 in /srv/conda/lib/python3.11/site-packages (from matplotlib>=3.5.1->CFEDemands>=0.4.1->-r requirements.txt (line 5)) (1.4.7)\n",
      "Requirement already satisfied: packaging>=20.0 in /srv/conda/lib/python3.11/site-packages (from matplotlib>=3.5.1->CFEDemands>=0.4.1->-r requirements.txt (line 5)) (24.2)\n",
      "Requirement already satisfied: pillow>=8 in /srv/conda/lib/python3.11/site-packages (from matplotlib>=3.5.1->CFEDemands>=0.4.1->-r requirements.txt (line 5)) (11.1.0)\n",
      "Requirement already satisfied: python-dateutil>=2.7 in /srv/conda/lib/python3.11/site-packages (from matplotlib>=3.5.1->CFEDemands>=0.4.1->-r requirements.txt (line 5)) (2.9.0.post0)\n",
      "Requirement already satisfied: pytz>=2020.1 in /srv/conda/lib/python3.11/site-packages (from pandas>=1.3.5->CFEDemands>=0.4.1->-r requirements.txt (line 5)) (2025.2)\n",
      "Requirement already satisfied: tzdata>=2022.7 in /srv/conda/lib/python3.11/site-packages (from pandas>=1.3.5->CFEDemands>=0.4.1->-r requirements.txt (line 5)) (2025.2)\n",
      "Requirement already satisfied: oauthlib>=3.0.0 in /srv/conda/lib/python3.11/site-packages (from requests-oauthlib>=0.7.0->google-auth-oauthlib>=0.4.1->gspread>=5.0.1->-r requirements.txt (line 7)) (3.2.2)\n",
      "Requirement already satisfied: requests>=2.0.0 in /srv/conda/lib/python3.11/site-packages (from requests-oauthlib>=0.7.0->google-auth-oauthlib>=0.4.1->gspread>=5.0.1->-r requirements.txt (line 7)) (2.32.3)\n",
      "Requirement already satisfied: charset_normalizer<4,>=2 in /srv/conda/lib/python3.11/site-packages (from requests>=2.0.0->requests-oauthlib>=0.7.0->google-auth-oauthlib>=0.4.1->gspread>=5.0.1->-r requirements.txt (line 7)) (3.4.0)\n",
      "Requirement already satisfied: idna<4,>=2.5 in /srv/conda/lib/python3.11/site-packages (from requests>=2.0.0->requests-oauthlib>=0.7.0->google-auth-oauthlib>=0.4.1->gspread>=5.0.1->-r requirements.txt (line 7)) (3.10)\n",
      "Requirement already satisfied: urllib3<3,>=1.21.1 in /srv/conda/lib/python3.11/site-packages (from requests>=2.0.0->requests-oauthlib>=0.7.0->google-auth-oauthlib>=0.4.1->gspread>=5.0.1->-r requirements.txt (line 7)) (2.3.0)\n",
      "Requirement already satisfied: certifi>=2017.4.17 in /srv/conda/lib/python3.11/site-packages (from requests>=2.0.0->requests-oauthlib>=0.7.0->google-auth-oauthlib>=0.4.1->gspread>=5.0.1->-r requirements.txt (line 7)) (2025.1.31)\n",
      "Note: you may need to restart the kernel to use updated packages.\n"
     ]
    }
   ],
   "source": [
    "%pip install -r requirements.txt"
   ]
  },
  {
   "cell_type": "code",
   "execution_count": 2,
   "id": "c5d0deea-77cd-4126-b584-b72e2871250c",
   "metadata": {},
   "outputs": [],
   "source": [
    "import pandas as pd\n",
    "import cfe.regression as rgsn"
   ]
  },
  {
   "cell_type": "markdown",
   "id": "aa13533e-b692-4a92-9f28-0779f9856934",
   "metadata": {},
   "source": [
    "### From Sheet to DataFrame to Regression Object\n",
    "\n"
   ]
  },
  {
   "cell_type": "markdown",
   "id": "2e82ab1a-15cd-46ea-bbed-3ed3e24e1a8a",
   "metadata": {},
   "source": [
    "We begin by defining a dictionary that contains the spreadsheet key.\n",
    "One is provided for the Ugandan example that I wish to work\n",
    "through.\n",
    "\n"
   ]
  },
  {
   "cell_type": "code",
   "execution_count": 3,
   "id": "99c1915f-fe41-4949-9bc2-8128f2cb6c17",
   "metadata": {},
   "outputs": [],
   "source": [
    "Uganda_Data = '1yFWlP5N7Aowaj6t2roRSFFUC50aFD-RLBGfzGtqLl0w'"
   ]
  },
  {
   "cell_type": "markdown",
   "id": "f0789bd8-bde2-497b-a972-864d18cc2022",
   "metadata": {},
   "source": [
    "With the spreadsheet defined , grab it and define a couple of\n",
    "dataframes. (Sheets should be shared with `students@eep153.iam.gserviceaccount.com`):\n",
    "\n"
   ]
  },
  {
   "cell_type": "code",
   "execution_count": 4,
   "id": "f79aa1ce-f649-4448-aca1-9bccefd14513",
   "metadata": {},
   "outputs": [],
   "source": [
    "import pandas as pd\n",
    "import numpy as np\n",
    "from eep153_tools.sheets import read_sheets\n",
    "\n",
    "# Change 'Uganda_Data' to key of your own sheet in Sheets, above\n",
    "x = read_sheets(Uganda_Data,sheet='Food Expenditures (2019-20)')\n",
    "x = x.set_index(['i','t','m','j']).squeeze()\n",
    "\n",
    "\n",
    "# Now prices\n",
    "p = read_sheets(Uganda_Data,sheet='Food Prices (2019-20)').set_index(['t','m','j','u'])\n",
    "\n",
    "# Compute medians of prices for particular time, place and unit\n",
    "p = p.groupby(['t','m','j','u']).median()\n",
    "\n",
    "# Just keep metric units\n",
    "p = p.xs('Kg',level=\"u\").squeeze().unstack('j')\n",
    "\n",
    "# Get intersection of goods we have prices *and* expenditures for:\n",
    "jidx = p.columns.intersection(x.index.levels[-1])\n",
    "\n",
    "# Drop prices for goods we don't have expenditures for\n",
    "p = p[jidx].T\n",
    "\n",
    "# Household characteristics\n",
    "d = read_sheets(Uganda_Data,sheet=\"Household Characteristics\")\n",
    "d.columns.name = 'k'\n",
    "\n",
    "# Fill blanks with zeros\n",
    "d = d.replace(np.nan,0)\n",
    "\n",
    "# Expenditures x may have duplicate columns\n",
    "x = x.T.groupby(['i','t','m','j']).sum()\n",
    "x = x.replace(0,np.nan) # Replace zeros with missing\n",
    "\n",
    "# Take logs of expenditures; call this y\n",
    "y = np.log(x)\n",
    "\n",
    "d.set_index(['i','t','m'],inplace=True)"
   ]
  },
  {
   "cell_type": "markdown",
   "id": "f1fe8270-ba0b-487a-9f8d-0c3c355735da",
   "metadata": {},
   "source": [
    "This gives a dataframe of household characteristics $d$ with a simple structure.\n",
    "\n"
   ]
  },
  {
   "cell_type": "code",
   "execution_count": 5,
   "id": "f0353864-8c55-43da-829e-4e2662792728",
   "metadata": {},
   "outputs": [
    {
     "data": {
      "text/html": [
       "<div>\n",
       "<style scoped>\n",
       "    .dataframe tbody tr th:only-of-type {\n",
       "        vertical-align: middle;\n",
       "    }\n",
       "\n",
       "    .dataframe tbody tr th {\n",
       "        vertical-align: top;\n",
       "    }\n",
       "\n",
       "    .dataframe thead th {\n",
       "        text-align: right;\n",
       "    }\n",
       "</style>\n",
       "<table border=\"1\" class=\"dataframe\">\n",
       "  <thead>\n",
       "    <tr style=\"text-align: right;\">\n",
       "      <th></th>\n",
       "      <th></th>\n",
       "      <th>k</th>\n",
       "      <th>Females 00-03</th>\n",
       "      <th>Females 04-08</th>\n",
       "      <th>Females 09-13</th>\n",
       "      <th>Females 14-18</th>\n",
       "      <th>Females 19-30</th>\n",
       "      <th>Females 31-50</th>\n",
       "      <th>Females 51-99</th>\n",
       "      <th>Males 00-03</th>\n",
       "      <th>Males 04-08</th>\n",
       "      <th>Males 09-13</th>\n",
       "      <th>Males 14-18</th>\n",
       "      <th>Males 19-30</th>\n",
       "      <th>Males 31-50</th>\n",
       "      <th>Males 51-99</th>\n",
       "      <th>log HSize</th>\n",
       "    </tr>\n",
       "    <tr>\n",
       "      <th>i</th>\n",
       "      <th>t</th>\n",
       "      <th>m</th>\n",
       "      <th></th>\n",
       "      <th></th>\n",
       "      <th></th>\n",
       "      <th></th>\n",
       "      <th></th>\n",
       "      <th></th>\n",
       "      <th></th>\n",
       "      <th></th>\n",
       "      <th></th>\n",
       "      <th></th>\n",
       "      <th></th>\n",
       "      <th></th>\n",
       "      <th></th>\n",
       "      <th></th>\n",
       "      <th></th>\n",
       "    </tr>\n",
       "  </thead>\n",
       "  <tbody>\n",
       "    <tr>\n",
       "      <th>0007d1f1449242feb5a25429644fb991</th>\n",
       "      <th>2019-20</th>\n",
       "      <th>Northern</th>\n",
       "      <td>0.0</td>\n",
       "      <td>0.0</td>\n",
       "      <td>0.0</td>\n",
       "      <td>0.0</td>\n",
       "      <td>1.0</td>\n",
       "      <td>0.0</td>\n",
       "      <td>1.0</td>\n",
       "      <td>1.0</td>\n",
       "      <td>0.0</td>\n",
       "      <td>0.0</td>\n",
       "      <td>1.0</td>\n",
       "      <td>1.0</td>\n",
       "      <td>0.0</td>\n",
       "      <td>0.0</td>\n",
       "      <td>1.609438</td>\n",
       "    </tr>\n",
       "    <tr>\n",
       "      <th>0010cbae3cea4ec9831f6cd92b02dc16</th>\n",
       "      <th>2019-20</th>\n",
       "      <th>Northern</th>\n",
       "      <td>0.0</td>\n",
       "      <td>0.0</td>\n",
       "      <td>0.0</td>\n",
       "      <td>0.0</td>\n",
       "      <td>1.0</td>\n",
       "      <td>0.0</td>\n",
       "      <td>1.0</td>\n",
       "      <td>0.0</td>\n",
       "      <td>0.0</td>\n",
       "      <td>0.0</td>\n",
       "      <td>0.0</td>\n",
       "      <td>0.0</td>\n",
       "      <td>0.0</td>\n",
       "      <td>1.0</td>\n",
       "      <td>1.098612</td>\n",
       "    </tr>\n",
       "    <tr>\n",
       "      <th>00246782f8654441a9df0f6ec0b6fc9f</th>\n",
       "      <th>2019-20</th>\n",
       "      <th>Northern</th>\n",
       "      <td>1.0</td>\n",
       "      <td>0.0</td>\n",
       "      <td>1.0</td>\n",
       "      <td>0.0</td>\n",
       "      <td>0.0</td>\n",
       "      <td>1.0</td>\n",
       "      <td>0.0</td>\n",
       "      <td>0.0</td>\n",
       "      <td>1.0</td>\n",
       "      <td>1.0</td>\n",
       "      <td>0.0</td>\n",
       "      <td>0.0</td>\n",
       "      <td>1.0</td>\n",
       "      <td>0.0</td>\n",
       "      <td>1.791759</td>\n",
       "    </tr>\n",
       "    <tr>\n",
       "      <th>003ed8d32f794609919d60d2ed8813e8</th>\n",
       "      <th>2019-20</th>\n",
       "      <th>Eastern</th>\n",
       "      <td>0.0</td>\n",
       "      <td>1.0</td>\n",
       "      <td>1.0</td>\n",
       "      <td>0.0</td>\n",
       "      <td>0.0</td>\n",
       "      <td>0.0</td>\n",
       "      <td>1.0</td>\n",
       "      <td>0.0</td>\n",
       "      <td>0.0</td>\n",
       "      <td>1.0</td>\n",
       "      <td>0.0</td>\n",
       "      <td>0.0</td>\n",
       "      <td>0.0</td>\n",
       "      <td>0.0</td>\n",
       "      <td>1.386294</td>\n",
       "    </tr>\n",
       "    <tr>\n",
       "      <th>004e93d7552248ed95d8bc3ec21bdbdb</th>\n",
       "      <th>2018-19</th>\n",
       "      <th>Eastern</th>\n",
       "      <td>1.0</td>\n",
       "      <td>0.0</td>\n",
       "      <td>1.0</td>\n",
       "      <td>0.0</td>\n",
       "      <td>1.0</td>\n",
       "      <td>0.0</td>\n",
       "      <td>0.0</td>\n",
       "      <td>0.0</td>\n",
       "      <td>0.0</td>\n",
       "      <td>0.0</td>\n",
       "      <td>0.0</td>\n",
       "      <td>0.0</td>\n",
       "      <td>1.0</td>\n",
       "      <td>0.0</td>\n",
       "      <td>1.386294</td>\n",
       "    </tr>\n",
       "  </tbody>\n",
       "</table>\n",
       "</div>"
      ],
      "text/plain": [
       "k                                                  Females 00-03  \\\n",
       "i                                t       m                         \n",
       "0007d1f1449242feb5a25429644fb991 2019-20 Northern            0.0   \n",
       "0010cbae3cea4ec9831f6cd92b02dc16 2019-20 Northern            0.0   \n",
       "00246782f8654441a9df0f6ec0b6fc9f 2019-20 Northern            1.0   \n",
       "003ed8d32f794609919d60d2ed8813e8 2019-20 Eastern             0.0   \n",
       "004e93d7552248ed95d8bc3ec21bdbdb 2018-19 Eastern             1.0   \n",
       "\n",
       "k                                                  Females 04-08  \\\n",
       "i                                t       m                         \n",
       "0007d1f1449242feb5a25429644fb991 2019-20 Northern            0.0   \n",
       "0010cbae3cea4ec9831f6cd92b02dc16 2019-20 Northern            0.0   \n",
       "00246782f8654441a9df0f6ec0b6fc9f 2019-20 Northern            0.0   \n",
       "003ed8d32f794609919d60d2ed8813e8 2019-20 Eastern             1.0   \n",
       "004e93d7552248ed95d8bc3ec21bdbdb 2018-19 Eastern             0.0   \n",
       "\n",
       "k                                                  Females 09-13  \\\n",
       "i                                t       m                         \n",
       "0007d1f1449242feb5a25429644fb991 2019-20 Northern            0.0   \n",
       "0010cbae3cea4ec9831f6cd92b02dc16 2019-20 Northern            0.0   \n",
       "00246782f8654441a9df0f6ec0b6fc9f 2019-20 Northern            1.0   \n",
       "003ed8d32f794609919d60d2ed8813e8 2019-20 Eastern             1.0   \n",
       "004e93d7552248ed95d8bc3ec21bdbdb 2018-19 Eastern             1.0   \n",
       "\n",
       "k                                                  Females 14-18  \\\n",
       "i                                t       m                         \n",
       "0007d1f1449242feb5a25429644fb991 2019-20 Northern            0.0   \n",
       "0010cbae3cea4ec9831f6cd92b02dc16 2019-20 Northern            0.0   \n",
       "00246782f8654441a9df0f6ec0b6fc9f 2019-20 Northern            0.0   \n",
       "003ed8d32f794609919d60d2ed8813e8 2019-20 Eastern             0.0   \n",
       "004e93d7552248ed95d8bc3ec21bdbdb 2018-19 Eastern             0.0   \n",
       "\n",
       "k                                                  Females 19-30  \\\n",
       "i                                t       m                         \n",
       "0007d1f1449242feb5a25429644fb991 2019-20 Northern            1.0   \n",
       "0010cbae3cea4ec9831f6cd92b02dc16 2019-20 Northern            1.0   \n",
       "00246782f8654441a9df0f6ec0b6fc9f 2019-20 Northern            0.0   \n",
       "003ed8d32f794609919d60d2ed8813e8 2019-20 Eastern             0.0   \n",
       "004e93d7552248ed95d8bc3ec21bdbdb 2018-19 Eastern             1.0   \n",
       "\n",
       "k                                                  Females 31-50  \\\n",
       "i                                t       m                         \n",
       "0007d1f1449242feb5a25429644fb991 2019-20 Northern            0.0   \n",
       "0010cbae3cea4ec9831f6cd92b02dc16 2019-20 Northern            0.0   \n",
       "00246782f8654441a9df0f6ec0b6fc9f 2019-20 Northern            1.0   \n",
       "003ed8d32f794609919d60d2ed8813e8 2019-20 Eastern             0.0   \n",
       "004e93d7552248ed95d8bc3ec21bdbdb 2018-19 Eastern             0.0   \n",
       "\n",
       "k                                                  Females 51-99  Males 00-03  \\\n",
       "i                                t       m                                      \n",
       "0007d1f1449242feb5a25429644fb991 2019-20 Northern            1.0          1.0   \n",
       "0010cbae3cea4ec9831f6cd92b02dc16 2019-20 Northern            1.0          0.0   \n",
       "00246782f8654441a9df0f6ec0b6fc9f 2019-20 Northern            0.0          0.0   \n",
       "003ed8d32f794609919d60d2ed8813e8 2019-20 Eastern             1.0          0.0   \n",
       "004e93d7552248ed95d8bc3ec21bdbdb 2018-19 Eastern             0.0          0.0   \n",
       "\n",
       "k                                                  Males 04-08  Males 09-13  \\\n",
       "i                                t       m                                    \n",
       "0007d1f1449242feb5a25429644fb991 2019-20 Northern          0.0          0.0   \n",
       "0010cbae3cea4ec9831f6cd92b02dc16 2019-20 Northern          0.0          0.0   \n",
       "00246782f8654441a9df0f6ec0b6fc9f 2019-20 Northern          1.0          1.0   \n",
       "003ed8d32f794609919d60d2ed8813e8 2019-20 Eastern           0.0          1.0   \n",
       "004e93d7552248ed95d8bc3ec21bdbdb 2018-19 Eastern           0.0          0.0   \n",
       "\n",
       "k                                                  Males 14-18  Males 19-30  \\\n",
       "i                                t       m                                    \n",
       "0007d1f1449242feb5a25429644fb991 2019-20 Northern          1.0          1.0   \n",
       "0010cbae3cea4ec9831f6cd92b02dc16 2019-20 Northern          0.0          0.0   \n",
       "00246782f8654441a9df0f6ec0b6fc9f 2019-20 Northern          0.0          0.0   \n",
       "003ed8d32f794609919d60d2ed8813e8 2019-20 Eastern           0.0          0.0   \n",
       "004e93d7552248ed95d8bc3ec21bdbdb 2018-19 Eastern           0.0          0.0   \n",
       "\n",
       "k                                                  Males 31-50  Males 51-99  \\\n",
       "i                                t       m                                    \n",
       "0007d1f1449242feb5a25429644fb991 2019-20 Northern          0.0          0.0   \n",
       "0010cbae3cea4ec9831f6cd92b02dc16 2019-20 Northern          0.0          1.0   \n",
       "00246782f8654441a9df0f6ec0b6fc9f 2019-20 Northern          1.0          0.0   \n",
       "003ed8d32f794609919d60d2ed8813e8 2019-20 Eastern           0.0          0.0   \n",
       "004e93d7552248ed95d8bc3ec21bdbdb 2018-19 Eastern           1.0          0.0   \n",
       "\n",
       "k                                                  log HSize  \n",
       "i                                t       m                    \n",
       "0007d1f1449242feb5a25429644fb991 2019-20 Northern   1.609438  \n",
       "0010cbae3cea4ec9831f6cd92b02dc16 2019-20 Northern   1.098612  \n",
       "00246782f8654441a9df0f6ec0b6fc9f 2019-20 Northern   1.791759  \n",
       "003ed8d32f794609919d60d2ed8813e8 2019-20 Eastern    1.386294  \n",
       "004e93d7552248ed95d8bc3ec21bdbdb 2018-19 Eastern    1.386294  "
      ]
     },
     "execution_count": 5,
     "metadata": {},
     "output_type": "execute_result"
    }
   ],
   "source": [
    "d.head()"
   ]
  },
  {
   "cell_type": "markdown",
   "id": "b5773c76-6a4d-4111-bdd0-339ad5efc0a7",
   "metadata": {},
   "source": [
    "Also a dataframe of log expenditures $y$ with a similarly simple\n",
    "structure.  Note that any expenditures of zero are dropped and\n",
    "replaced with a missing value indicator.\n",
    "\n"
   ]
  },
  {
   "cell_type": "code",
   "execution_count": 6,
   "id": "49791bd9-14b3-4fc5-b94f-673a51a90866",
   "metadata": {},
   "outputs": [
    {
     "data": {
      "text/plain": [
       "i                                 t        m         j              \n",
       "0007d1f1449242feb5a25429644fb991  2019-20  Northern  Beans (dry)         9.392662\n",
       "                                                     Beef               10.239960\n",
       "                                                     Beer                9.169518\n",
       "                                                     Cabbage (green)     6.907755\n",
       "                                                     Cassava (fresh)     8.294050\n",
       "Name: Expenditure, dtype: float64"
      ]
     },
     "execution_count": 6,
     "metadata": {},
     "output_type": "execute_result"
    }
   ],
   "source": [
    "y.head()"
   ]
  },
  {
   "cell_type": "markdown",
   "id": "074aaaf5-8731-4f58-85f2-bbeba74ba0d6",
   "metadata": {},
   "source": [
    "Finally, construct a regression object:\n",
    "\n"
   ]
  },
  {
   "cell_type": "code",
   "execution_count": 7,
   "id": "09431232-7698-41d7-97d2-ae19e00cad5a",
   "metadata": {},
   "outputs": [],
   "source": [
    "r = rgsn.Regression(y=y,d=d)"
   ]
  },
  {
   "cell_type": "markdown",
   "id": "fed1b3fd-b018-4337-a6d7-9913b846fa85",
   "metadata": {},
   "source": [
    "### Additional Data\n",
    "\n"
   ]
  },
  {
   "cell_type": "markdown",
   "id": "84522b0f-f693-47f9-9860-48f3c0ca48dc",
   "metadata": {},
   "source": [
    "Using the data on household characteristics and (log) expenditures, we can estimate the demand system (`d`,=y=).  This gives us predictions of expenditures on different kinds of foods.  Then if we divide these expenditures by prices, we get predicted quantities of food.\n",
    "\n",
    "However, here we&rsquo;re interested in nutritional outcomes, so we need a food conversion table:\n",
    "\n"
   ]
  },
  {
   "cell_type": "code",
   "execution_count": 8,
   "id": "84e2b2d6-bdca-436b-8167-d798e2f2b36c",
   "metadata": {},
   "outputs": [],
   "source": [
    "fct = read_sheets(Uganda_Data,sheet='FCT')\n",
    "\n",
    "fct = fct.set_index('j')\n",
    "fct.columns.name = 'n'\n",
    "\n",
    "fct = fct.apply(lambda x: pd.to_numeric(x,errors='coerce'))"
   ]
  },
  {
   "cell_type": "markdown",
   "id": "50d7cb40-7d0f-4947-9e66-e7f4420c6fe2",
   "metadata": {},
   "source": [
    "We also want to establish when nutrition is *adequate* for households with different compositions.  For this, we want data on recommended dietary intakes:\n",
    "\n"
   ]
  },
  {
   "cell_type": "code",
   "execution_count": 9,
   "id": "e20dd052-acda-4ebe-8b51-d275187627be",
   "metadata": {},
   "outputs": [],
   "source": [
    "rdi = read_sheets(Uganda_Data,sheet='RDI')\n",
    "\n",
    "rdi = rdi.set_index('n')\n",
    "rdi.columns.name = 'k'\n",
    "\n",
    "rdi = rdi.apply(lambda x: pd.to_numeric(x,errors='coerce'))"
   ]
  },
  {
   "cell_type": "markdown",
   "id": "45bb00d8-ea34-4517-819a-103f690d0f82",
   "metadata": {},
   "source": [
    "#### Pre-estimated Demand Systems\n",
    "\n"
   ]
  },
  {
   "cell_type": "markdown",
   "id": "3caf1309-6fad-4af0-aa84-9563ca0cd8dc",
   "metadata": {},
   "source": [
    "An instance `r` of `cfe.Regression` can be made persistent with\n",
    " `r.to_pickle('my_result.pickle')`, which saves the instance &ldquo;on disk&rdquo;, and can be loaded using `cfe.regression.read_pickle`.  We use  this method below to load data and demand system previously estimated for Uganda:\n",
    "\n"
   ]
  },
  {
   "cell_type": "code",
   "execution_count": 10,
   "id": "f833e9bc-1da4-44d7-85e0-e55a8fa9342c",
   "metadata": {},
   "outputs": [
    {
     "ename": "FileNotFoundError",
     "evalue": "[Errno 2] No such file or directory: '/home/jovyan/EEP153-Proj-4/Project4/../Project3/uganda_estimates.rgsn'",
     "output_type": "error",
     "traceback": [
      "\u001b[31m---------------------------------------------------------------------------\u001b[39m",
      "\u001b[31mTypeError\u001b[39m                                 Traceback (most recent call last)",
      "\u001b[36mFile \u001b[39m\u001b[32m/srv/conda/lib/python3.11/site-packages/cfe/regression.py:1426\u001b[39m, in \u001b[36mread_pickle\u001b[39m\u001b[34m(fn, cache_dir)\u001b[39m\n\u001b[32m   1425\u001b[39m \u001b[38;5;28;01mtry\u001b[39;00m:\n\u001b[32m-> \u001b[39m\u001b[32m1426\u001b[39m     R = \u001b[43mpickle\u001b[49m\u001b[43m.\u001b[49m\u001b[43mload\u001b[49m\u001b[43m(\u001b[49m\u001b[43mfn\u001b[49m\u001b[43m)\u001b[49m  \u001b[38;5;66;03m# Is fn a file?\u001b[39;00m\n\u001b[32m   1427\u001b[39m \u001b[38;5;28;01mexcept\u001b[39;00m \u001b[38;5;167;01mTypeError\u001b[39;00m:  \u001b[38;5;66;03m# Maybe a filename?\u001b[39;00m\n",
      "\u001b[31mTypeError\u001b[39m: file must have 'read' and 'readline' attributes",
      "\nDuring handling of the above exception, another exception occurred:\n",
      "\u001b[31mFileNotFoundError\u001b[39m                         Traceback (most recent call last)",
      "\u001b[36mCell\u001b[39m\u001b[36m \u001b[39m\u001b[32mIn[10]\u001b[39m\u001b[32m, line 2\u001b[39m\n\u001b[32m      1\u001b[39m \u001b[38;5;66;03m# Assumes you've already set this up e.g., in Project 3\u001b[39;00m\n\u001b[32m----> \u001b[39m\u001b[32m2\u001b[39m r = \u001b[43mrgsn\u001b[49m\u001b[43m.\u001b[49m\u001b[43mread_pickle\u001b[49m\u001b[43m(\u001b[49m\u001b[33;43m'\u001b[39;49m\u001b[33;43m../Project3/uganda_estimates.rgsn\u001b[39;49m\u001b[33;43m'\u001b[39;49m\u001b[43m)\u001b[49m\n",
      "\u001b[36mFile \u001b[39m\u001b[32m/srv/conda/lib/python3.11/site-packages/cfe/regression.py:1436\u001b[39m, in \u001b[36mread_pickle\u001b[39m\u001b[34m(fn, cache_dir)\u001b[39m\n\u001b[32m   1434\u001b[39m             R = pickle.load(f)\n\u001b[32m   1435\u001b[39m     \u001b[38;5;28;01melse\u001b[39;00m:\n\u001b[32m-> \u001b[39m\u001b[32m1436\u001b[39m \u001b[43m        \u001b[49m\u001b[38;5;28;43;01mwith\u001b[39;49;00m\u001b[43m \u001b[49m\u001b[43mfsspec\u001b[49m\u001b[43m.\u001b[49m\u001b[43mopen\u001b[49m\u001b[43m(\u001b[49m\u001b[43mfn\u001b[49m\u001b[43m,\u001b[49m\u001b[43mmode\u001b[49m\u001b[43m=\u001b[49m\u001b[33;43m'\u001b[39;49m\u001b[33;43mrb\u001b[39;49m\u001b[33;43m'\u001b[39;49m\u001b[43m)\u001b[49m\u001b[43m \u001b[49m\u001b[38;5;28;43;01mas\u001b[39;49;00m\u001b[43m \u001b[49m\u001b[43mf\u001b[49m\u001b[43m:\u001b[49m\n\u001b[32m   1437\u001b[39m \u001b[43m            \u001b[49m\u001b[43mR\u001b[49m\u001b[43m \u001b[49m\u001b[43m=\u001b[49m\u001b[43m \u001b[49m\u001b[43mpickle\u001b[49m\u001b[43m.\u001b[49m\u001b[43mload\u001b[49m\u001b[43m(\u001b[49m\u001b[43mf\u001b[49m\u001b[43m)\u001b[49m\n\u001b[32m   1439\u001b[39m \u001b[38;5;28;01mif\u001b[39;00m \u001b[38;5;28mtype\u001b[39m(R) \u001b[38;5;129;01mis\u001b[39;00m \u001b[38;5;129;01mnot\u001b[39;00m \u001b[38;5;28mdict\u001b[39m:\n",
      "\u001b[36mFile \u001b[39m\u001b[32m/srv/conda/lib/python3.11/site-packages/fsspec/core.py:105\u001b[39m, in \u001b[36mOpenFile.__enter__\u001b[39m\u001b[34m(self)\u001b[39m\n\u001b[32m    102\u001b[39m mode = \u001b[38;5;28mself\u001b[39m.mode.replace(\u001b[33m\"\u001b[39m\u001b[33mt\u001b[39m\u001b[33m\"\u001b[39m, \u001b[33m\"\u001b[39m\u001b[33m\"\u001b[39m).replace(\u001b[33m\"\u001b[39m\u001b[33mb\u001b[39m\u001b[33m\"\u001b[39m, \u001b[33m\"\u001b[39m\u001b[33m\"\u001b[39m) + \u001b[33m\"\u001b[39m\u001b[33mb\u001b[39m\u001b[33m\"\u001b[39m\n\u001b[32m    104\u001b[39m \u001b[38;5;28;01mtry\u001b[39;00m:\n\u001b[32m--> \u001b[39m\u001b[32m105\u001b[39m     f = \u001b[38;5;28;43mself\u001b[39;49m\u001b[43m.\u001b[49m\u001b[43mfs\u001b[49m\u001b[43m.\u001b[49m\u001b[43mopen\u001b[49m\u001b[43m(\u001b[49m\u001b[38;5;28;43mself\u001b[39;49m\u001b[43m.\u001b[49m\u001b[43mpath\u001b[49m\u001b[43m,\u001b[49m\u001b[43m \u001b[49m\u001b[43mmode\u001b[49m\u001b[43m=\u001b[49m\u001b[43mmode\u001b[49m\u001b[43m)\u001b[49m\n\u001b[32m    106\u001b[39m \u001b[38;5;28;01mexcept\u001b[39;00m \u001b[38;5;167;01mFileNotFoundError\u001b[39;00m \u001b[38;5;28;01mas\u001b[39;00m e:\n\u001b[32m    107\u001b[39m     \u001b[38;5;28;01mif\u001b[39;00m has_magic(\u001b[38;5;28mself\u001b[39m.path):\n",
      "\u001b[36mFile \u001b[39m\u001b[32m/srv/conda/lib/python3.11/site-packages/fsspec/spec.py:1310\u001b[39m, in \u001b[36mAbstractFileSystem.open\u001b[39m\u001b[34m(self, path, mode, block_size, cache_options, compression, **kwargs)\u001b[39m\n\u001b[32m   1308\u001b[39m \u001b[38;5;28;01melse\u001b[39;00m:\n\u001b[32m   1309\u001b[39m     ac = kwargs.pop(\u001b[33m\"\u001b[39m\u001b[33mautocommit\u001b[39m\u001b[33m\"\u001b[39m, \u001b[38;5;129;01mnot\u001b[39;00m \u001b[38;5;28mself\u001b[39m._intrans)\n\u001b[32m-> \u001b[39m\u001b[32m1310\u001b[39m     f = \u001b[38;5;28;43mself\u001b[39;49m\u001b[43m.\u001b[49m\u001b[43m_open\u001b[49m\u001b[43m(\u001b[49m\n\u001b[32m   1311\u001b[39m \u001b[43m        \u001b[49m\u001b[43mpath\u001b[49m\u001b[43m,\u001b[49m\n\u001b[32m   1312\u001b[39m \u001b[43m        \u001b[49m\u001b[43mmode\u001b[49m\u001b[43m=\u001b[49m\u001b[43mmode\u001b[49m\u001b[43m,\u001b[49m\n\u001b[32m   1313\u001b[39m \u001b[43m        \u001b[49m\u001b[43mblock_size\u001b[49m\u001b[43m=\u001b[49m\u001b[43mblock_size\u001b[49m\u001b[43m,\u001b[49m\n\u001b[32m   1314\u001b[39m \u001b[43m        \u001b[49m\u001b[43mautocommit\u001b[49m\u001b[43m=\u001b[49m\u001b[43mac\u001b[49m\u001b[43m,\u001b[49m\n\u001b[32m   1315\u001b[39m \u001b[43m        \u001b[49m\u001b[43mcache_options\u001b[49m\u001b[43m=\u001b[49m\u001b[43mcache_options\u001b[49m\u001b[43m,\u001b[49m\n\u001b[32m   1316\u001b[39m \u001b[43m        \u001b[49m\u001b[43m*\u001b[49m\u001b[43m*\u001b[49m\u001b[43mkwargs\u001b[49m\u001b[43m,\u001b[49m\n\u001b[32m   1317\u001b[39m \u001b[43m    \u001b[49m\u001b[43m)\u001b[49m\n\u001b[32m   1318\u001b[39m     \u001b[38;5;28;01mif\u001b[39;00m compression \u001b[38;5;129;01mis\u001b[39;00m \u001b[38;5;129;01mnot\u001b[39;00m \u001b[38;5;28;01mNone\u001b[39;00m:\n\u001b[32m   1319\u001b[39m         \u001b[38;5;28;01mfrom\u001b[39;00m\u001b[38;5;250m \u001b[39m\u001b[34;01mfsspec\u001b[39;00m\u001b[34;01m.\u001b[39;00m\u001b[34;01mcompression\u001b[39;00m\u001b[38;5;250m \u001b[39m\u001b[38;5;28;01mimport\u001b[39;00m compr\n",
      "\u001b[36mFile \u001b[39m\u001b[32m/srv/conda/lib/python3.11/site-packages/fsspec/implementations/local.py:201\u001b[39m, in \u001b[36mLocalFileSystem._open\u001b[39m\u001b[34m(self, path, mode, block_size, **kwargs)\u001b[39m\n\u001b[32m    199\u001b[39m \u001b[38;5;28;01mif\u001b[39;00m \u001b[38;5;28mself\u001b[39m.auto_mkdir \u001b[38;5;129;01mand\u001b[39;00m \u001b[33m\"\u001b[39m\u001b[33mw\u001b[39m\u001b[33m\"\u001b[39m \u001b[38;5;129;01min\u001b[39;00m mode:\n\u001b[32m    200\u001b[39m     \u001b[38;5;28mself\u001b[39m.makedirs(\u001b[38;5;28mself\u001b[39m._parent(path), exist_ok=\u001b[38;5;28;01mTrue\u001b[39;00m)\n\u001b[32m--> \u001b[39m\u001b[32m201\u001b[39m \u001b[38;5;28;01mreturn\u001b[39;00m \u001b[43mLocalFileOpener\u001b[49m\u001b[43m(\u001b[49m\u001b[43mpath\u001b[49m\u001b[43m,\u001b[49m\u001b[43m \u001b[49m\u001b[43mmode\u001b[49m\u001b[43m,\u001b[49m\u001b[43m \u001b[49m\u001b[43mfs\u001b[49m\u001b[43m=\u001b[49m\u001b[38;5;28;43mself\u001b[39;49m\u001b[43m,\u001b[49m\u001b[43m \u001b[49m\u001b[43m*\u001b[49m\u001b[43m*\u001b[49m\u001b[43mkwargs\u001b[49m\u001b[43m)\u001b[49m\n",
      "\u001b[36mFile \u001b[39m\u001b[32m/srv/conda/lib/python3.11/site-packages/fsspec/implementations/local.py:365\u001b[39m, in \u001b[36mLocalFileOpener.__init__\u001b[39m\u001b[34m(self, path, mode, autocommit, fs, compression, **kwargs)\u001b[39m\n\u001b[32m    363\u001b[39m \u001b[38;5;28mself\u001b[39m.compression = get_compression(path, compression)\n\u001b[32m    364\u001b[39m \u001b[38;5;28mself\u001b[39m.blocksize = io.DEFAULT_BUFFER_SIZE\n\u001b[32m--> \u001b[39m\u001b[32m365\u001b[39m \u001b[38;5;28;43mself\u001b[39;49m\u001b[43m.\u001b[49m\u001b[43m_open\u001b[49m\u001b[43m(\u001b[49m\u001b[43m)\u001b[49m\n",
      "\u001b[36mFile \u001b[39m\u001b[32m/srv/conda/lib/python3.11/site-packages/fsspec/implementations/local.py:370\u001b[39m, in \u001b[36mLocalFileOpener._open\u001b[39m\u001b[34m(self)\u001b[39m\n\u001b[32m    368\u001b[39m \u001b[38;5;28;01mif\u001b[39;00m \u001b[38;5;28mself\u001b[39m.f \u001b[38;5;129;01mis\u001b[39;00m \u001b[38;5;28;01mNone\u001b[39;00m \u001b[38;5;129;01mor\u001b[39;00m \u001b[38;5;28mself\u001b[39m.f.closed:\n\u001b[32m    369\u001b[39m     \u001b[38;5;28;01mif\u001b[39;00m \u001b[38;5;28mself\u001b[39m.autocommit \u001b[38;5;129;01mor\u001b[39;00m \u001b[33m\"\u001b[39m\u001b[33mw\u001b[39m\u001b[33m\"\u001b[39m \u001b[38;5;129;01mnot\u001b[39;00m \u001b[38;5;129;01min\u001b[39;00m \u001b[38;5;28mself\u001b[39m.mode:\n\u001b[32m--> \u001b[39m\u001b[32m370\u001b[39m         \u001b[38;5;28mself\u001b[39m.f = \u001b[38;5;28;43mopen\u001b[39;49m\u001b[43m(\u001b[49m\u001b[38;5;28;43mself\u001b[39;49m\u001b[43m.\u001b[49m\u001b[43mpath\u001b[49m\u001b[43m,\u001b[49m\u001b[43m \u001b[49m\u001b[43mmode\u001b[49m\u001b[43m=\u001b[49m\u001b[38;5;28;43mself\u001b[39;49m\u001b[43m.\u001b[49m\u001b[43mmode\u001b[49m\u001b[43m)\u001b[49m\n\u001b[32m    371\u001b[39m         \u001b[38;5;28;01mif\u001b[39;00m \u001b[38;5;28mself\u001b[39m.compression:\n\u001b[32m    372\u001b[39m             compress = compr[\u001b[38;5;28mself\u001b[39m.compression]\n",
      "\u001b[31mFileNotFoundError\u001b[39m: [Errno 2] No such file or directory: '/home/jovyan/EEP153-Proj-4/Project4/../Project3/uganda_estimates.rgsn'"
     ]
    }
   ],
   "source": [
    "# Assumes you've already set this up e.g., in Project 3\n",
    "r = rgsn.read_pickle('../Project3/uganda_estimates.rgsn')"
   ]
  },
  {
   "cell_type": "markdown",
   "id": "fc4b3f96-93c3-4e5c-9659-0758de3cf4a5",
   "metadata": {},
   "source": [
    "#### Reference Prices\n",
    "\n"
   ]
  },
  {
   "cell_type": "markdown",
   "id": "a5a3bee8-522d-4a11-954a-c148f10a6a6c",
   "metadata": {},
   "source": [
    "Choose reference prices.  Here we&rsquo;ll choose a particular year, and average prices across markets.  If you wanted to focus on particular market you&rsquo;d do this differently.\n",
    "\n"
   ]
  },
  {
   "cell_type": "code",
   "execution_count": null,
   "id": "8bd6d46d-46cf-4264-b0f2-c2f36e92150c",
   "metadata": {},
   "outputs": [],
   "source": [
    "# Reference prices chosen from a particular time; average across place.\n",
    "# These are prices per kilogram:\n",
    "pbar = p.loc[r.beta.index].mean(axis=1).fillna(1) # Only use prices for goods we can estimate"
   ]
  },
  {
   "cell_type": "markdown",
   "id": "81a817c1-67b3-4837-8c79-6027d0f2ee9b",
   "metadata": {},
   "source": [
    "#### Budgets\n",
    "\n"
   ]
  },
  {
   "cell_type": "markdown",
   "id": "6e4f68e8-d55c-4295-be23-33d9ba90f843",
   "metadata": {},
   "source": [
    "Get food budget for all households, then find median budget:\n",
    "\n"
   ]
  },
  {
   "cell_type": "code",
   "execution_count": null,
   "id": "abfd9071-dc7f-4085-9e55-c6872783ebe3",
   "metadata": {},
   "outputs": [],
   "source": [
    "import numpy as np\n",
    "\n",
    "xhat = r.predicted_expenditures()\n",
    "\n",
    "# Total food expenditures per household\n",
    "xbar = xhat.groupby(['i','t','m']).sum()\n",
    "\n",
    "# Reference budget\n",
    "xref = xbar.quantile(0.5)  # Household at 0.5 quantile is median"
   ]
  },
  {
   "cell_type": "markdown",
   "id": "cfe279c5-5318-494f-ae51-c93c3687c699",
   "metadata": {},
   "source": [
    "#### Food Quantities\n",
    "\n"
   ]
  },
  {
   "cell_type": "markdown",
   "id": "85cdb46b-a278-4b89-ab17-232a86eadfdf",
   "metadata": {},
   "source": [
    "Get quantities of food by dividing expenditures by prices:\n",
    "\n"
   ]
  },
  {
   "cell_type": "code",
   "execution_count": null,
   "id": "b57a83a3-ece8-435d-8781-718115ef4d03",
   "metadata": {},
   "outputs": [],
   "source": [
    "qhat = (xhat.unstack('j')/pbar).dropna(how='all')\n",
    "\n",
    "# Drop missing columns\n",
    "qhat = qhat.loc[:,qhat.count()>0]\n",
    "\n",
    "qhat"
   ]
  },
  {
   "cell_type": "markdown",
   "id": "07d0b33d-17dc-4ec2-b6f7-a49e584bde2b",
   "metadata": {},
   "source": [
    "Finally, define a function to change a single price in the vector $p$:\n",
    "\n"
   ]
  },
  {
   "cell_type": "code",
   "execution_count": null,
   "id": "f213c1a6-1824-469b-a40d-7f068f70af60",
   "metadata": {},
   "outputs": [],
   "source": [
    "def my_prices(j,p0,p=pbar):\n",
    "    \"\"\"\n",
    "    Change price of jth good to p0, holding other prices fixed at p.\n",
    "    \"\"\"\n",
    "    p = p.copy()\n",
    "    p.loc[j] = p0\n",
    "    return p"
   ]
  },
  {
   "cell_type": "markdown",
   "id": "df11bece-c9c3-41b6-9320-afa12b26f49f",
   "metadata": {},
   "source": [
    "### Demands\n",
    "\n"
   ]
  },
  {
   "cell_type": "markdown",
   "id": "4386c1ff-83c0-4d19-9721-5bb7d1ffb3ed",
   "metadata": {},
   "source": [
    "#### Demand functions\n",
    "\n"
   ]
  },
  {
   "cell_type": "code",
   "execution_count": null,
   "id": "5f5de6f2-4661-4294-9a97-577053c56b85",
   "metadata": {},
   "outputs": [],
   "source": [
    "%matplotlib inline"
   ]
  },
  {
   "cell_type": "code",
   "execution_count": null,
   "id": "f5c051f1-557a-43ed-ba74-09090c657085",
   "metadata": {},
   "outputs": [],
   "source": [
    "import matplotlib.pyplot as plt\n",
    "\n",
    "use = 'Matoke'  # Good we want demand curve for\n",
    "\n",
    "# Vary prices from 50% to 200% of reference.\n",
    "scale = np.linspace(.5,2,20)\n",
    "\n",
    "# Demand for Matoke for household at median budget\n",
    "plt.plot([r.demands(xref,my_prices(use,pbar[use]*s,pbar))[use] for s in scale],scale)\n",
    "\n",
    "# Demand for Matoke for household at 25% percentile\n",
    "plt.plot([r.demands(xbar.quantile(0.25),my_prices(use,pbar[use]*s,pbar))[use] for s in scale],scale)\n",
    "\n",
    "# Demand for Matoke for household at 75% percentile\n",
    "plt.plot([r.demands(xbar.quantile(0.75),my_prices(use,pbar[use]*s,pbar))[use] for s in scale],scale)\n",
    "\n",
    "plt.ylabel(f\"Price (relative to base of {pbar[use]:.2f})\")\n",
    "plt.xlabel(f\"Quantities of {use} Demanded\")"
   ]
  },
  {
   "cell_type": "markdown",
   "id": "c47cccfb-7279-4b42-a60e-76e9521c9744",
   "metadata": {},
   "source": [
    "#### Engel Curves\n",
    "\n"
   ]
  },
  {
   "cell_type": "code",
   "execution_count": null,
   "id": "c3e04706-90a0-433b-80b5-0674e335374c",
   "metadata": {},
   "outputs": [],
   "source": [
    "fig,ax = plt.subplots()\n",
    "\n",
    "scale = np.geomspace(.01,10,50)\n",
    "\n",
    "ax.plot(np.log(scale*xref),[r.expenditures(s*xref,pbar)/(s*xref) for s in scale])\n",
    "ax.set_xlabel(f'log budget (relative to base of {xref:.0f})')\n",
    "ax.set_ylabel(f'Expenditure share')\n",
    "ax.set_title('Engel Curves')"
   ]
  },
  {
   "cell_type": "markdown",
   "id": "0bba2c81-b6b6-4b61-96e1-55f0558dcb53",
   "metadata": {},
   "source": [
    "### Mapping to Nutrients\n",
    "\n"
   ]
  },
  {
   "cell_type": "markdown",
   "id": "6851fa62-37fd-4fc4-999f-28f95cf52af3",
   "metadata": {},
   "source": [
    "We&rsquo;ve seen how to map prices and budgets into vectors of consumption\n",
    " quantities using `cfe.Regression.demands`.  Next we want to think about\n",
    " how to map these into bundles of *nutrients*.  The information needed\n",
    " for the mapping comes from a &ldquo;Food Conversion Table&rdquo; (or database,\n",
    " such as the [USDA Food Data Central](https://fdc.nal.usda.gov/)).    We&rsquo;ve already grabbed an FCT, let&rsquo;s take a look:\n",
    "\n"
   ]
  },
  {
   "cell_type": "code",
   "execution_count": null,
   "id": "18e766ec-b23d-4541-bdee-4e74ca9cd752",
   "metadata": {},
   "outputs": [],
   "source": [
    "fct"
   ]
  },
  {
   "cell_type": "markdown",
   "id": "db795949-9826-43c6-b2e3-66232144b1f3",
   "metadata": {},
   "source": [
    "We need the index of the Food Conversion Table (FCT) to match up with\n",
    " the index of the vector of quantities demanded.   To manage this we\n",
    " make use of the `align` method for `pd.DataFrames`:\n",
    "\n"
   ]
  },
  {
   "cell_type": "code",
   "execution_count": null,
   "id": "a998d411-1862-464e-99b1-7cdf52b9655b",
   "metadata": {},
   "outputs": [],
   "source": [
    "# Create a new FCT and vector of consumption that only share rows in common:\n",
    "fct0,c0 = fct.align(qhat.T,axis=0,join='inner')\n",
    "print(fct0.index)"
   ]
  },
  {
   "cell_type": "markdown",
   "id": "8508519c-822f-44b2-8d6b-d2d4a83b095d",
   "metadata": {},
   "source": [
    "Now, since rows of `fct0` and `c0` match, we can obtain nutritional\n",
    " outcomes from the inner (or dot, or matrix) product of the transposed\n",
    " `fct0` and `c0`:\n",
    "\n"
   ]
  },
  {
   "cell_type": "code",
   "execution_count": null,
   "id": "8ab5cb4b-573b-4368-a3cc-8e44ba798d05",
   "metadata": {},
   "outputs": [],
   "source": [
    "# The @ operator means matrix multiply\n",
    "N = fct0.T@c0\n",
    "\n",
    "N  #NB: Uganda quantities are for previous 7 days"
   ]
  },
  {
   "cell_type": "markdown",
   "id": "54f0e01e-9ace-419a-8f7d-a94b87becfde",
   "metadata": {},
   "source": [
    "Of course, since we can compute the nutritional content of a vector of\n",
    " consumption goods `c0`, we can also use our demand functions to\n",
    " compute nutrition as a *function* of prices and budget.\n",
    "\n"
   ]
  },
  {
   "cell_type": "code",
   "execution_count": null,
   "id": "86fcd806-e5f9-43aa-9f4b-fd59c87fb690",
   "metadata": {},
   "outputs": [],
   "source": [
    "def nutrient_demand(x,p):\n",
    "    c = r.demands(x,p)\n",
    "    fct0,c0 = fct.align(c,axis=0,join='inner')\n",
    "    N = fct0.T@c0\n",
    "\n",
    "    N = N.loc[~N.index.duplicated()]\n",
    "    \n",
    "    return N"
   ]
  },
  {
   "cell_type": "markdown",
   "id": "32a2659b-25c3-4806-a405-4c7462193a8e",
   "metadata": {},
   "source": [
    "With this `nutrient_demand` function in hand, we can see how nutrient\n",
    " outcomes vary with budget, given prices:\n",
    "\n"
   ]
  },
  {
   "cell_type": "code",
   "execution_count": null,
   "id": "e0afbbdd-64d2-4c76-bbc2-25d931e8ddaf",
   "metadata": {},
   "outputs": [],
   "source": [
    "import numpy as np\n",
    "import matplotlib.pyplot as plt\n",
    "\n",
    "X = np.linspace(xref/5,xref*5,50)\n",
    "\n",
    "UseNutrients = ['Protein','Energy','Iron','Calcium','Vitamin C']\n",
    "\n",
    "df = pd.concat({myx:np.log(nutrient_demand(myx,pbar))[UseNutrients] for myx in X},axis=1).T\n",
    "ax = df.plot()\n",
    "\n",
    "ax.set_xlabel('log budget')\n",
    "ax.set_ylabel('log nutrient')"
   ]
  },
  {
   "cell_type": "markdown",
   "id": "d3c5160e-d413-47fe-a42b-77e5a6c07da7",
   "metadata": {},
   "source": [
    "Now how does nutrition vary with prices?\n",
    "\n"
   ]
  },
  {
   "cell_type": "code",
   "execution_count": null,
   "id": "b4bf8058-b5d3-4dae-ae3b-042ef6448253",
   "metadata": {},
   "outputs": [],
   "source": [
    "USE_GOOD = 'Oranges'\n",
    "\n",
    "scale = np.geomspace(.01,10,50)\n",
    "\n",
    "ndf = pd.DataFrame({s:np.log(nutrient_demand(xref/2,my_prices(USE_GOOD,pbar[USE_GOOD]*s)))[UseNutrients] for s in scale}).T\n",
    "\n",
    "ax = ndf.plot()\n",
    "\n",
    "ax.set_xlabel('log price')\n",
    "ax.set_ylabel('log nutrient')"
   ]
  },
  {
   "cell_type": "markdown",
   "id": "8328aaca-c7e5-402c-b8a5-382f45e2ef03",
   "metadata": {},
   "source": [
    "### Nutritional Needs of Households\n",
    "\n"
   ]
  },
  {
   "cell_type": "markdown",
   "id": "2e0b5f11-f3d2-45c2-b0bf-0927c9a2c5b2",
   "metadata": {},
   "source": [
    "Our data on demand and nutrients is at the *household* level; we\n",
    "   can&rsquo;t directly compare household level nutrition with individual\n",
    "   level requirements.  What we **can** do is add up minimum individual\n",
    "   requirements, and see whether household total exceed these.  This\n",
    "   isn&rsquo;t a guarantee that all individuals have adequate nutrition\n",
    "   (since the way food is allocated in the household might be quite\n",
    "   unequal, or unrelated to individual requirements), but it is\n",
    "   *necessary* if all individuals are to have adequate nutrition.\n",
    "\n",
    "For the average household in our data, the number of\n",
    "different kinds of people can be computed by averaging over households:\n",
    "\n"
   ]
  },
  {
   "cell_type": "code",
   "execution_count": null,
   "id": "4d87fc1b-03ad-45aa-ae9c-bc57256cae47",
   "metadata": {},
   "outputs": [],
   "source": [
    "# In first round, averaged over households and villages\n",
    "dbar = r.d[rdi.columns].mean()"
   ]
  },
  {
   "cell_type": "markdown",
   "id": "93e50778-8fa3-4968-b809-acd3482b8cf2",
   "metadata": {},
   "source": [
    "Now, the inner/dot/matrix product between `dbar` and the `rdi`\n",
    "DataFrame of requirements will give us minimum requirements for the\n",
    "average household:\n",
    "\n"
   ]
  },
  {
   "cell_type": "code",
   "execution_count": null,
   "id": "d94951c6-7b56-458e-b3db-c56eda66a61c",
   "metadata": {},
   "outputs": [],
   "source": [
    "# This matrix product gives minimum nutrient requirements for\n",
    "# the average household\n",
    "hh_rdi = rdi@dbar\n",
    "\n",
    "hh_rdi"
   ]
  },
  {
   "cell_type": "markdown",
   "id": "5f700c80-1141-4ffb-b3cf-3d6b244f4932",
   "metadata": {},
   "source": [
    "## Nutritional Adequacy of Food Demands\n",
    "\n"
   ]
  },
  {
   "cell_type": "markdown",
   "id": "60eca3fc-cca0-4afb-a02c-544d052d9a9e",
   "metadata": {},
   "source": [
    "Since we can trace out demands for nutrients as a function of $(x,p)$,\n",
    "and we&rsquo;ve computed minimum nutritional requirements for the average\n",
    "household, we can *normalize* nutritional intake to check the adequacy\n",
    "of diet for a household with counts of different kinds of people given by `z`.\n",
    "\n"
   ]
  },
  {
   "cell_type": "code",
   "execution_count": null,
   "id": "192298cb-5df7-436b-ab70-0b6dda5217fb",
   "metadata": {},
   "outputs": [],
   "source": [
    "def nutrient_adequacy_ratio(x,p,d,rdi=rdi,days=7):\n",
    "    hh_rdi = rdi.replace('',0)@d*days\n",
    "\n",
    "    return nutrient_demand(x,p)/hh_rdi"
   ]
  },
  {
   "cell_type": "markdown",
   "id": "994b844e-9f88-4727-b27c-995a168c2905",
   "metadata": {},
   "source": [
    "In terms of normalized nutrients, any household with more than one\n",
    "unit of any given nutrient (or zero in logs) will be consuming a\n",
    "minimally adequate level of the nutrient; below this level there&rsquo;s\n",
    "clearly nutritional inadequacy.  For this reason the ratio of\n",
    "actual nutrients to required nutrients is termed the &ldquo;nutrient\n",
    "adequacy ratio,&rdquo; or NAR.\n",
    "\n"
   ]
  },
  {
   "cell_type": "code",
   "execution_count": null,
   "id": "76a4f53e-c69b-4c9c-a049-ca46706ed41b",
   "metadata": {},
   "outputs": [],
   "source": [
    "X = np.geomspace(.01*xref,2*xref,100)\n",
    "\n",
    "pd.DataFrame({x:np.log(nutrient_adequacy_ratio(x,pbar,dbar))[UseNutrients] for x in X}).T.plot()\n",
    "plt.legend(UseNutrients)\n",
    "plt.xlabel('budget')\n",
    "plt.ylabel('log nutrient adequacy ratio')\n",
    "plt.axhline(0)\n",
    "plt.axvline(xref)"
   ]
  },
  {
   "cell_type": "markdown",
   "id": "ca87b652-1a68-40a9-88c2-3c24686f7d84",
   "metadata": {},
   "source": [
    "As before, we can also vary relative prices.  Here we trace out\n",
    "nutritional adequacy varying the price of a single good:\n",
    "\n"
   ]
  },
  {
   "cell_type": "code",
   "execution_count": null,
   "id": "3b270130-e355-4844-b1ce-e6061389711a",
   "metadata": {},
   "outputs": [],
   "source": [
    "scale = np.geomspace(.01,2,50)\n",
    "\n",
    "ndf = pd.DataFrame({s*pbar[USE_GOOD]:np.log(nutrient_adequacy_ratio(xref/4,my_prices(USE_GOOD,pbar[USE_GOOD]*s),dbar))[UseNutrients] for s in scale}).T\n",
    "\n",
    "fig,ax = plt.subplots()\n",
    "ax.plot(ndf['Vitamin C'],ndf.index)\n",
    "ax.axhline(pbar[USE_GOOD])\n",
    "ax.axvline(0)\n",
    "\n",
    "ax.set_ylabel('Price')\n",
    "ax.set_xlabel('log nutrient adequacy ratio')"
   ]
  },
  {
   "cell_type": "code",
   "execution_count": null,
   "id": "d9a945ac-90b1-4be2-a35a-c3e70c0fc6fe",
   "metadata": {},
   "outputs": [],
   "source": []
  }
 ],
 "metadata": {
  "kernelspec": {
   "display_name": "Python 3 (ipykernel)",
   "language": "python",
   "name": "python3"
  },
  "language_info": {
   "codemirror_mode": {
    "name": "ipython",
    "version": 3
   },
   "file_extension": ".py",
   "mimetype": "text/x-python",
   "name": "python",
   "nbconvert_exporter": "python",
   "pygments_lexer": "ipython3",
   "version": "3.11.12"
  },
  "org": null
 },
 "nbformat": 4,
 "nbformat_minor": 5
}
