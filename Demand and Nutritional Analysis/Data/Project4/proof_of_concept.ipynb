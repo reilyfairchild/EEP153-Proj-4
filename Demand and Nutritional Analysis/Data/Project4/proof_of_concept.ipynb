{
  "cells": [
    {
      "cell_type": "markdown",
      "metadata": {},
      "source": [
        "## Proof of Concept\n\n"
      ]
    },
    {
      "cell_type": "markdown",
      "metadata": {},
      "source": [
        "### Preface\n\n"
      ]
    },
    {
      "cell_type": "markdown",
      "metadata": {},
      "source": [
        "This file is meant to basically check the sanity and correctness of\nthe data and code used to work out nutrition from household\nexpenditure data.\n\nThere are a few modules you may need to install:\n\n"
      ]
    },
    {
      "cell_type": "code",
      "execution_count": 1,
      "metadata": {},
      "outputs": [],
      "source": [
        "!pip install -r requirements.txt"
      ]
    },
    {
      "cell_type": "markdown",
      "metadata": {},
      "source": [
        "All the data required for estimation and calculation can be found\n  in a google spreadsheet.  Choose one to explore!\n\n"
      ]
    },
    {
      "cell_type": "code",
      "execution_count": 1,
      "metadata": {},
      "outputs": [],
      "source": [
        "COUNTRY = 'Nigeria'"
      ]
    },
    {
      "cell_type": "code",
      "execution_count": 1,
      "metadata": {},
      "outputs": [],
      "source": [
        "URL = {'Uganda':'https://docs.google.com/spreadsheets/d/1yVLriVpo7KGUXvR3hq_n53XpXlD5NmLaH1oOMZyV0gQ/',\n       'Tanzania':'https://docs.google.com/spreadsheets/d/1Tknc2F8K6SaA7j0R7J_NE8yJBTsCPPw77_Bfc04MY40/',\n       'ICRISAT':'https://docs.google.com/spreadsheets/d/13Ig5hZif-NSHtgkKRp_cEgKXk0lOsdUB2BAD6O_FnRo',\n       'Nigeria':{'Expenditures':'https://docs.google.com/spreadsheets/d/1qzz6XGhPWLZLmwjrUY4W9k9U2PYukWblQKXWu0l37C4/',\n                  'FCT':'https://docs.google.com/spreadsheets/d/1whE_EW5x-jxrsKvYWfefdBppzp_TZhPP61bdEN-FEJ4/',\n                  'RDI':'https://docs.google.com/spreadsheets/d/1whE_EW5x-jxrsKvYWfefdBppzp_TZhPP61bdEN-FEJ4/',\n                  'HH Characteristics':'https://docs.google.com/spreadsheets/d/1whE_EW5x-jxrsKvYWfefdBppzp_TZhPP61bdEN-FEJ4/',\n                  'Prices':'https://docs.google.com/spreadsheets/d/1whE_EW5x-jxrsKvYWfefdBppzp_TZhPP61bdEN-FEJ4/'}\n                  }\nDAYS_PER_PERIOD = {'Uganda':7,'Tanzania':7,'ICRISAT':365.25,'Nigeria':7} # Number of days of expenditure recall"
      ]
    },
    {
      "cell_type": "markdown",
      "metadata": {},
      "source": [
        "### Estimation\n\n"
      ]
    },
    {
      "cell_type": "markdown",
      "metadata": {},
      "source": [
        "You may already have access to an estimated demand system.  If so,\n   use it!  Then you can skip down to &ldquo;Plotting Food Demands&rdquo;.\n   Otherwise, we pull in data on expenditures, household characteristics,\n   and price:\n\n"
      ]
    },
    {
      "cell_type": "code",
      "execution_count": 1,
      "metadata": {},
      "outputs": [],
      "source": [
        "import cfe\nimport pandas as pd\nimport numpy as np\nfrom eep153_tools.sheets import read_sheets\n\nx = read_sheets(URL[COUNTRY],sheet='Expenditures')\n\nif len(x.columns==5): # stored as a series\n    x = x.set_index(['j','t','m','i']).squeeze()\nelse:    \n    x = x.set_index(['j','t','m'])\n    x.columns.name = 'i'\n    x = x.stack().dropna()\nx.index.names = ['i','t','m','j']\n    \nx = x.replace(0,np.nan).dropna()\n\ny = np.log(x)\n\nz = read_sheets(URL[COUNTRY],sheet='HH Characteristics').set_index(['j','t','m'])\nz.columns.name = 'k'\nz.index.names=['i','t','m']\n\np = read_sheets(URL[COUNTRY],sheet='Prices').set_index(['t','m'])\np.columns.name = 'j'"
      ]
    },
    {
      "cell_type": "markdown",
      "metadata": {},
      "source": [
        "Let&rsquo;s take a look at the  different periods that appear in the\ndata. If you can&rsquo;t estimate (the next step) because your kernel dies\nit may be that you should use a subset of the periods.\n\n"
      ]
    },
    {
      "cell_type": "code",
      "execution_count": 1,
      "metadata": {},
      "outputs": [],
      "source": [
        "use_periods = p.index.levels[0].tolist()\n\n# If you want to use just a subset of periods, redefine\n# use_periods here; e.g.,\n#\nuse_periods = ['2015Q3','2016Q1']\ny = y.loc[y.index.get_level_values('t').isin(use_periods)]\nz = z.loc[z.index.get_level_values('t').isin(use_periods)]\np = p.loc[p.index.get_level_values('t').isin(use_periods)]\n\nuse_periods"
      ]
    },
    {
      "cell_type": "markdown",
      "metadata": {},
      "source": [
        "Next, we construct an object we can use in the estimation.\n\n"
      ]
    },
    {
      "cell_type": "code",
      "execution_count": 1,
      "metadata": {},
      "outputs": [],
      "source": [
        "r = cfe.Regression(y=y,d=z)"
      ]
    },
    {
      "cell_type": "markdown",
      "metadata": {},
      "source": [
        "Next, we estimate CFE demands *given* the prices and budgets of households in the data.\n\n"
      ]
    },
    {
      "cell_type": "code",
      "execution_count": 1,
      "metadata": {},
      "outputs": [],
      "source": [
        "xhat = r.predicted_expenditures()"
      ]
    },
    {
      "cell_type": "markdown",
      "metadata": {},
      "source": [
        "Estimation is kind of expensive, so you might want to save these\nresults to use in your later code.\n\n"
      ]
    },
    {
      "cell_type": "code",
      "execution_count": 1,
      "metadata": {},
      "outputs": [],
      "source": [
        "r.to_pickle(\"my %s.pickle\" % COUNTRY)"
      ]
    },
    {
      "cell_type": "markdown",
      "metadata": {},
      "source": [
        "### Plotting Food Demands\n\n"
      ]
    },
    {
      "cell_type": "markdown",
      "metadata": {},
      "source": [
        "Now we&rsquo;re interested in predicting what quantities of different\n   kinds of food *would* have been, if something (e.g., a price,\n   budget, household characteristics) was different.\n\n"
      ]
    },
    {
      "cell_type": "markdown",
      "metadata": {},
      "source": [
        "#### Ceteris Paribus\n\n"
      ]
    },
    {
      "cell_type": "markdown",
      "metadata": {},
      "source": [
        "We begin by setting up some benchmarks for prices and budgets, so\n    the things we don&rsquo;t want to change we can hold fixed.\n\n"
      ]
    },
    {
      "cell_type": "markdown",
      "metadata": {},
      "source": [
        "##### Reference Prices\n\n"
      ]
    },
    {
      "cell_type": "markdown",
      "metadata": {},
      "source": [
        "Choose reference prices.  Here we&rsquo;ll choose a particular year, and average prices across markets.  If you wanted to focus on particular market you&rsquo;d do this differently.\n\n"
      ]
    },
    {
      "cell_type": "code",
      "execution_count": 1,
      "metadata": {},
      "outputs": [],
      "source": [
        "# Reference prices chosen from a particular time; average across place.\n# These are prices per kilogram:\nmy_t = use_periods[0]  # Choose from periods available in your dataset!\n\npbar = p.xs(my_t,level='t').mean()\npbar = pbar[r.beta.index] # Only use prices for goods we can estimate\n\nmy_j = 'Onions'  # Choose a reference good for analysis; should satisfy\n\nassert my_j in pbar.index, f\"The label {my_j} does not match a good for which demands have been estimated.\""
      ]
    },
    {
      "cell_type": "markdown",
      "metadata": {},
      "source": [
        "##### Budgets\n\n"
      ]
    },
    {
      "cell_type": "markdown",
      "metadata": {},
      "source": [
        "Get food budget for all households, then find median budget:\n\n"
      ]
    },
    {
      "cell_type": "code",
      "execution_count": 1,
      "metadata": {},
      "outputs": [],
      "source": [
        "import numpy as np\n\nxhat = r.predicted_expenditures()\n\n# Total food expenditures per household\nxbar = xhat.groupby(['i','t','m']).sum()\n\n# Reference budget\nx0 = xbar.quantile(0.5)  # Household at 0.5 quantile is median\n\nf\"Median income is {x0} in local currency.\""
      ]
    },
    {
      "cell_type": "markdown",
      "metadata": {},
      "source": [
        "##### Changing one price, holding others fixed\n\n"
      ]
    },
    {
      "cell_type": "markdown",
      "metadata": {},
      "source": [
        "Finally, define a function to change a single price in the vector $p$:\n\n"
      ]
    },
    {
      "cell_type": "code",
      "execution_count": 1,
      "metadata": {},
      "outputs": [],
      "source": [
        "def my_prices(p0,p=pbar,j=my_j):\n    \"\"\"\n    Change price of jth good to p0, holding other prices fixed.\n    \"\"\"\n    p = p.copy()\n    p.loc[j] = p0\n    return p"
      ]
    },
    {
      "cell_type": "markdown",
      "metadata": {},
      "source": [
        "##### Plot demand schedule\n\n"
      ]
    },
    {
      "cell_type": "code",
      "execution_count": 1,
      "metadata": {},
      "outputs": [],
      "source": [
        "import matplotlib.pyplot as plt\n%matplotlib inline\n\n# Values for prices\nref_price = pbar[my_j]\nP = np.linspace(ref_price/5,ref_price*5,50)\n\nfor x in [x0*s for s in [.25,.5,1.,2,4]]:\n    plt.plot([r.demands(x,my_prices(p0))[my_j] for p0 in P],P)\n\nplt.xlabel(my_j)\nplt.ylabel(f'Price of {my_j}')"
      ]
    },
    {
      "cell_type": "markdown",
      "metadata": {},
      "source": [
        "### Plotting Nutrient Demands\n\n"
      ]
    },
    {
      "cell_type": "markdown",
      "metadata": {},
      "source": [
        "The nutrient value of food consumed by the household is just the\n   product of its diet and a food conversion table.  So let&rsquo;s write a\n   function that describes that product:\n\n"
      ]
    },
    {
      "cell_type": "code",
      "execution_count": 1,
      "metadata": {},
      "outputs": [],
      "source": [
        "from eep153_tools.sheets import read_sheets\nimport warnings \n\n# Get FCT:\nfct = read_sheets(URL[COUNTRY],\n                  sheet='FCT').set_index('i')\nfct.columns.name='n'\n\n\ndef nutrient_demand(x,p):\n    with warnings.catch_warnings():\n        warnings.simplefilter(\"ignore\")\n        c = r.demands(x,p)\n\n    fct0,c0 = fct.align(c,axis=0,join='inner')\n    N = fct0.T@c0\n\n    N = N.loc[~N.index.duplicated()]\n    \n    return N"
      ]
    },
    {
      "cell_type": "markdown",
      "metadata": {},
      "source": [
        "With this `nutrient_demand` function in hand, we can see how nutrient\n outcomes vary with budget, given prices:\n\n"
      ]
    },
    {
      "cell_type": "code",
      "execution_count": 1,
      "metadata": {},
      "outputs": [],
      "source": [
        "import numpy as np\nimport pandas as pd\n\nX = np.linspace(x0/5,x0*5,50)\n\n# UseNutrients = ['Protein','Calories','Iron','Calcium']\nUseNutrients = fct.columns.tolist()\n\nplt.plot(X,[np.log(nutrient_demand(x,pbar))[UseNutrients] for x in X])\nplt.legend(UseNutrients)\nplt.xlabel('Budget')\nplt.ylabel('log nutrient')"
      ]
    },
    {
      "cell_type": "markdown",
      "metadata": {},
      "source": [
        "### Nutritional requirements\n\n"
      ]
    },
    {
      "cell_type": "markdown",
      "metadata": {},
      "source": [
        "Individuals have nutritional requirements established by nutrition\n scientists.  Here we grab one such set of requirements:\n\n"
      ]
    },
    {
      "cell_type": "code",
      "execution_count": 1,
      "metadata": {},
      "outputs": [],
      "source": [
        "rdi = read_sheets(URL[COUNTRY],\n                  sheet='RDI').set_index('n').replace(np.nan,0)\nrdi.columns.name = 'k'\n\nrdi = rdi.replace('',0)\nrdi"
      ]
    },
    {
      "cell_type": "markdown",
      "metadata": {},
      "source": [
        "#### Nutritional Needs of Households\n\n"
      ]
    },
    {
      "cell_type": "markdown",
      "metadata": {},
      "source": [
        "Our data on demand and nutrients is at the *household* level; we\n    can&rsquo;t directly compare household level nutrition with individual\n    level requirements.  What we **can** do is add up minimum individual\n    requirements, and see whether household total exceed these.  This\n    isn&rsquo;t a guarantee that all individuals have adequate nutrition\n    (since the way food is allocated in the household might be quite\n    unequal, or unrelated to individual requirements), but it is\n    *necessary* if all individuals are to have adequate nutrition.\n\nFor the average household, the number of different kinds of people\ncan be computed by averaging over households:\n\n"
      ]
    },
    {
      "cell_type": "code",
      "execution_count": 1,
      "metadata": {},
      "outputs": [],
      "source": [
        "# Find average household characteristics for reference period & place\nzbar = r.d.mean()"
      ]
    },
    {
      "cell_type": "markdown",
      "metadata": {},
      "source": [
        "Now, the inner/dot/matrix product between `zbar` and the `rda`\n DataFrame of requirements will give us minimum requirements for the\n average household:\n\n"
      ]
    },
    {
      "cell_type": "code",
      "execution_count": 1,
      "metadata": {},
      "outputs": [],
      "source": [
        "# This matrix product gives minimum nutrient requirements for average\n# household in reference year & place\nmy_rdi,my_zbar = rdi.align(zbar.T,axis=1,join='inner')\nhh_rdi = my_rdi@my_zbar.T\n\n# But this is per *day*, while our data is per period:\nhh_rdi = hh_rdi*DAYS_PER_PERIOD[COUNTRY]\nhh_rdi"
      ]
    },
    {
      "cell_type": "markdown",
      "metadata": {},
      "source": [
        "#### Nutritional Adequacy of Food Demands\n\n"
      ]
    },
    {
      "cell_type": "markdown",
      "metadata": {},
      "source": [
        "Since we can trace out demands for nutrients as a function of $(x,p)$,\n and we&rsquo;ve computed minimum nutritional requirements for the average\n household, we can *normalize* nutritional intake to check the adequacy\n of diet.\n\n"
      ]
    },
    {
      "cell_type": "code",
      "execution_count": 1,
      "metadata": {},
      "outputs": [],
      "source": [
        "def nutrient_adequacy_ratio(x,p):\n    return (nutrient_demand(x,p)/hh_rdi.T).squeeze()"
      ]
    },
    {
      "cell_type": "markdown",
      "metadata": {},
      "source": [
        "In terms of normalized nutrients, any household with more than one\n unit of any given nutrient (or zero in logs) will be consuming a\n minimally adequate level of the nutrient; below this level there&rsquo;s\n clearly nutritional inadequacy.  For this reason the ratio of\n actual nutrients to required nutrients is termed the &ldquo;nutrient\n adequacy ratio,&rdquo; or NAR.\n\n"
      ]
    },
    {
      "cell_type": "code",
      "execution_count": 1,
      "metadata": {},
      "outputs": [],
      "source": [
        "plt.plot(X,[np.log(nutrient_adequacy_ratio(x,pbar))[UseNutrients] for x in X])\nplt.legend(UseNutrients)\nplt.xlabel('Budget')\nplt.ylabel('log nutrient adequacy ratio')\nplt.axhline(0)"
      ]
    },
    {
      "cell_type": "markdown",
      "metadata": {},
      "source": [
        "As before, we can also vary relative prices.  Here we trace out\n nutritional adequacy varying the price of a single good:\n\n"
      ]
    },
    {
      "cell_type": "code",
      "execution_count": 1,
      "metadata": {},
      "outputs": [],
      "source": [
        "poorer_x = x0/2\n\nplt.plot([np.log(nutrient_adequacy_ratio(poorer_x,my_prices(p0,j=my_j)))[UseNutrients] for p0 in P],P)\nplt.legend(UseNutrients)\nplt.ylabel('Price')\nplt.xlabel('log nutrient adequacy ratio')\nplt.axvline(0)\nplt.axhline(phat[my_j])"
      ]
    }
  ],
  "metadata": {
    "org": null,
    "kernelspec": {
      "display_name": "Python 3",
      "language": "python",
      "name": "python3"
    },
    "language_info": {
      "codemirror_mode": {
        "name": "ipython",
        "version": 3
      },
      "file_extension": ".py",
      "mimetype": "text/x-python",
      "name": "python",
      "nbconvert_exporter": "python",
      "pygments_lexer": "ipython3",
      "version": "3.5.2"
    }
  },
  "nbformat": 4,
  "nbformat_minor": 0
}
