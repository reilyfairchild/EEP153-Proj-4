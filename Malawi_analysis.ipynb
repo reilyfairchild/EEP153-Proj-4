{
 "cells": [
  {
   "cell_type": "code",
   "execution_count": 1,
   "id": "e0f465a0-15fd-48e5-99db-881f16c109b8",
   "metadata": {
    "scrolled": true
   },
   "outputs": [],
   "source": [
    "#!pip install -r requirements.txt"
   ]
  },
  {
   "cell_type": "code",
   "execution_count": 2,
   "id": "5d8c6569-bc46-4147-b0be-449c1522dbcc",
   "metadata": {},
   "outputs": [
    {
     "ename": "NameError",
     "evalue": "name 'pd' is not defined",
     "output_type": "error",
     "traceback": [
      "\u001b[31m---------------------------------------------------------------------------\u001b[39m",
      "\u001b[31mNameError\u001b[39m                                 Traceback (most recent call last)",
      "\u001b[36mCell\u001b[39m\u001b[36m \u001b[39m\u001b[32mIn[2]\u001b[39m\u001b[32m, line 1\u001b[39m\n\u001b[32m----> \u001b[39m\u001b[32m1\u001b[39m p = \u001b[43mpd\u001b[49m.read_csv(\u001b[33m'\u001b[39m\u001b[33m./Data/Malawi_Food_Prices(2019-20).csv\u001b[39m\u001b[33m'\u001b[39m, header= \u001b[32m0\u001b[39m).set_index([\u001b[33m'\u001b[39m\u001b[33mt\u001b[39m\u001b[33m'\u001b[39m, \u001b[33m'\u001b[39m\u001b[33mm\u001b[39m\u001b[33m'\u001b[39m, \u001b[33m'\u001b[39m\u001b[33mj\u001b[39m\u001b[33m'\u001b[39m, \u001b[33m'\u001b[39m\u001b[33mu\u001b[39m\u001b[33m'\u001b[39m])\n\u001b[32m      2\u001b[39m p = p.groupby([\u001b[33m'\u001b[39m\u001b[33mt\u001b[39m\u001b[33m'\u001b[39m, \u001b[33m'\u001b[39m\u001b[33mm\u001b[39m\u001b[33m'\u001b[39m, \u001b[33m'\u001b[39m\u001b[33mj\u001b[39m\u001b[33m'\u001b[39m, \u001b[33m'\u001b[39m\u001b[33mu\u001b[39m\u001b[33m'\u001b[39m]).median()\n\u001b[32m      3\u001b[39m p = p.xs(\u001b[33m'\u001b[39m\u001b[33mkg\u001b[39m\u001b[33m'\u001b[39m, level=\u001b[33m\"\u001b[39m\u001b[33mu\u001b[39m\u001b[33m\"\u001b[39m).squeeze().unstack(\u001b[33m'\u001b[39m\u001b[33mj\u001b[39m\u001b[33m'\u001b[39m)\n",
      "\u001b[31mNameError\u001b[39m: name 'pd' is not defined"
     ]
    }
   ],
   "source": [
    "\n",
    "p = pd.read_csv('./Data/Malawi_Food_Prices(2019-20).csv', header= 0).set_index(['t', 'm', 'j', 'u'])\n",
    "p = p.groupby(['t', 'm', 'j', 'u']).median()\n",
    "p = p.xs('kg', level=\"u\").squeeze().unstack('j')\n",
    "p"
   ]
  },
  {
   "cell_type": "code",
   "execution_count": null,
   "id": "d3156f94-d682-45d1-9359-fe4fb48efe50",
   "metadata": {},
   "outputs": [],
   "source": [
    "import pandas as pd\n",
    "import numpy as np\n",
    "import cfe\n",
    "#from eep153_tools.sheets import read_sheets\n",
    "\n",
    "# === 1. Food Expenditures ===\n",
    "#x = read_sheets(Senegal_Data, sheet='Food Expenditures (2019)')\n",
    "x = pd.read_csv(\"./Data/Malawi_Food_Expenditures(2019-20).csv\", header= 0, index_col=0).reset_index()\n",
    "x = x.set_index(['i', 't', 'm', 'j']).squeeze()\n",
    "\n",
    "# === 2. Food Prices ===\n",
    "#p = read_sheets(Senegal_Data, sheet='Food Prices (2019)').set_index(['t', 'm', 'j', 'u'])\n",
    "p = pd.read_csv('./Data/Malawi_Food_Prices(2019-20).csv', header= 0).set_index(['t', 'm', 'j', 'u'])\n",
    "\n",
    "# Compute medians of prices for each (t, m, j, u)\n",
    "p = p.groupby(['t', 'm', 'j', 'u']).median()\n",
    "\n",
    "# Keep only Kg unit\n",
    "p = p.xs('kg', level=\"u\").squeeze().unstack('j')\n",
    "\n",
    "# Find intersection of goods between price data and expenditure data\n",
    "common_goods = list(set(p.columns).intersection(set(x.index.get_level_values('j'))))\n",
    "\n",
    "# Filter both datasets to those goods\n",
    "p = p[common_goods].T\n",
    "\n",
    "# === 3. Household Characteristics ===\n",
    "#d = read_sheets(Senegal_Data, sheet='Household Characteristics')\n",
    "d = pd.read_csv('./Data/Malawi_Household_Characteristics.csv', header= 0)\n",
    "d.columns.name = 'k'\n",
    "\n",
    "# Replace blanks with zeros\n",
    "d = d.replace(np.nan, 0)\n",
    "\n",
    "# Group expenditures and clean\n",
    "x = x.T.groupby(['i', 't', 'm', 'j']).sum()\n",
    "x = x.replace(0, np.nan)\n",
    "\n",
    "# Take logs of expenditures\n",
    "y = np.log(x)\n",
    "\n",
    "# Set index for household characteristics\n",
    "d.set_index(['i', 't', 'm'], inplace=True)\n"
   ]
  },
  {
   "cell_type": "code",
   "execution_count": null,
   "id": "bfcb0c15-6956-4c0c-b1a1-b3b4c747cdb0",
   "metadata": {},
   "outputs": [],
   "source": [
    "y.head()"
   ]
  },
  {
   "cell_type": "code",
   "execution_count": null,
   "id": "cc75e2a8-16c8-4e5b-894e-4b6b8c3af77a",
   "metadata": {},
   "outputs": [],
   "source": [
    "from cfe import Regression\n",
    "\n",
    "result = Regression(y=y,d=d)"
   ]
  },
  {
   "cell_type": "code",
   "execution_count": null,
   "id": "2ee6dd48-cb4f-4dd9-b14c-809f4f7aa3a8",
   "metadata": {},
   "outputs": [],
   "source": [
    "result.predicted_expenditures()"
   ]
  },
  {
   "cell_type": "code",
   "execution_count": null,
   "id": "c1a19307-9abb-4750-96d6-22434f83209a",
   "metadata": {},
   "outputs": [],
   "source": [
    "%matplotlib inline\n",
    "df = pd.DataFrame({'y':y,'yhat':result.get_predicted_log_expenditures()})\n",
    "df.plot.scatter(x='yhat',y='y')\n",
    "df"
   ]
  },
  {
   "cell_type": "code",
   "execution_count": null,
   "id": "d4cf5dd5-732f-4c32-aa78-3e46cd7f1450",
   "metadata": {},
   "outputs": [],
   "source": [
    "ax = result.graph_beta()"
   ]
  },
  {
   "cell_type": "code",
   "execution_count": null,
   "id": "84d65f95-29e6-48b2-9aad-dd35ab3f62c0",
   "metadata": {},
   "outputs": [],
   "source": [
    "result.get_beta()"
   ]
  },
  {
   "cell_type": "code",
   "execution_count": null,
   "id": "2ea9fbc8-2d23-48e4-9e66-aed2c573f0f1",
   "metadata": {},
   "outputs": [],
   "source": [
    "result.get_gamma()"
   ]
  },
  {
   "cell_type": "code",
   "execution_count": null,
   "id": "7daf6f7e-7931-41d5-b9dc-6c607b05341f",
   "metadata": {},
   "outputs": [],
   "source": [
    "ax = result.get_w().plot.hist(bins=100,density=True)\n",
    "result.get_w().plot.kde(ax=ax)"
   ]
  },
  {
   "cell_type": "code",
   "execution_count": null,
   "id": "76e5cb3f-9018-47d4-979f-7ddc6afea743",
   "metadata": {},
   "outputs": [],
   "source": [
    "# Save the regression result\n",
    "result.to_pickle('malawi_estimates.rgsn')"
   ]
  },
  {
   "cell_type": "code",
   "execution_count": null,
   "id": "fe27f738-6a7a-4aba-8b37-07b6ff2be342",
   "metadata": {},
   "outputs": [],
   "source": [
    "\n",
    "result = cfe.regression.read_pickle('malawi_estimates.rgsn')"
   ]
  },
  {
   "cell_type": "code",
   "execution_count": null,
   "id": "9324b767-c9e9-493c-ad6e-fddfbe452ec4",
   "metadata": {},
   "outputs": [],
   "source": [
    "\n",
    "\n",
    "# Get predicted expenditures\n",
    "xhat = result.predicted_expenditures()\n",
    "\n",
    "# Total food expenditures per household (i, t, m)\n",
    "xbar = xhat.groupby(['i', 't', 'm']).sum()\n",
    "\n",
    "# Reference budget: median household's budget\n",
    "xref = xbar.quantile(0.5)  # 50th percentile"
   ]
  },
  {
   "cell_type": "code",
   "execution_count": null,
   "id": "0a955b32-774c-4225-9ecd-45b2fd689067",
   "metadata": {},
   "outputs": [],
   "source": [
    "# Step 1: Average prices across markets\n",
    "pbar = p.mean(axis=1)  # average over markets (axis=1)\n",
    "\n",
    "# Step 2: Keep only goods that exist in both price data and estimated betas\n",
    "estimated_goods = result.beta.index             # goods estimated by the model\n",
    "available_goods = pbar.index                    # goods for which we have price data\n",
    "common_goods = estimated_goods.intersection(available_goods)  # safe intersection\n",
    "pbar = pbar.loc[common_goods]\n",
    "\n",
    "# Step 3: Replace any missing values with 1 (for stability in simulations)\n",
    "pbar = pbar.replace(np.nan, 1)\n",
    "\n",
    "def my_prices(p0, j, p=pbar):\n",
    "    \"\"\"\n",
    "    Change price of j-th good to p0, holding other prices fixed.\n",
    "    \n",
    "    Parameters:\n",
    "    p0: new price to set\n",
    "    j:  name of the good (string)\n",
    "    p:  reference price vector (default: pbar)\n",
    "    \"\"\"\n",
    "    p = p.copy()\n",
    "    p.loc[j] = p0\n",
    "    return p"
   ]
  },
  {
   "cell_type": "code",
   "execution_count": null,
   "id": "e638a1d2-36d5-4ffb-ace5-59df9f66b415",
   "metadata": {},
   "outputs": [],
   "source": [
    "pbar.head()"
   ]
  },
  {
   "cell_type": "code",
   "execution_count": null,
   "id": "8f5a7a05-fd92-41d4-a02a-365e12434ab1",
   "metadata": {},
   "outputs": [],
   "source": [
    "import matplotlib.pyplot as plt\n",
    "\n",
    "\n",
    "#Step 1: Get average price per good from the data\n",
    "pbar_full = p.mean(axis=1)  # Average across markets\n",
    "\n",
    "#Step 2: Reindex to match the order of goods used in the regression model\n",
    "goods = result.beta.index  # This is the correct good order expected by the model\n",
    "pbar = pbar_full.reindex(goods)  # Align price vector to match model order\n",
    "\n",
    "#Step 3: Fill any missing prices with 1 (to avoid errors)\n",
    "pbar = pbar.fillna(1)\n",
    "\n",
    "#Step 4: Choose a good from the list (make sure it's in result.beta.index)\n",
    "print(\"Available goods:\", list(pbar.index))\n",
    "use = 'Butter'  # Replace with another valid good if needed\n",
    "\n",
    "#Step 5: Define a safe price-change function\n",
    "def my_prices(p0, j, p=pbar):\n",
    "    p = p.copy()\n",
    "    p.loc[j] = p0\n",
    "    return p\n",
    "\n",
    "#Step 6: Plot demand curve\n",
    "scale = np.linspace(0.5, 2, 20)\n",
    "\n",
    "#Demand at median budget\n",
    "plt.plot(\n",
    "    [result.demands(xref, my_prices(pbar[use] * s, use))[use] for s in scale],\n",
    "    scale,\n",
    "    label='Median HH'\n",
    ")\n",
    "\n",
    "#25th percentile budget\n",
    "plt.plot(\n",
    "    [result.demands(xbar.quantile(0.25), my_prices(pbar[use] * s, use))[use] for s in scale],\n",
    "    scale,\n",
    "    label='25th %ile HH'\n",
    ")\n",
    "\n",
    "#75th percentile budget\n",
    "plt.plot(\n",
    "    [result.demands(xbar.quantile(0.75), my_prices(pbar[use] * s, use))[use] for s in scale],\n",
    "    scale,\n",
    "    label='75th %ile HH'\n",
    ")\n",
    "\n",
    "#Step 7: Final plot formatting\n",
    "plt.xlabel(f\"Quantities of {use} Demanded\")\n",
    "plt.ylabel(f\"Price (relative to base of {pbar[use]:.2f})\")\n",
    "plt.title(f\"Demand Curve for {use}\")\n",
    "plt.legend()\n",
    "plt.grid(True)\n",
    "plt.show()"
   ]
  },
  {
   "cell_type": "code",
   "execution_count": null,
   "id": "8e969e8f-183a-4bf9-bde8-9080d154bfd2",
   "metadata": {},
   "outputs": [],
   "source": []
  }
 ],
 "metadata": {
  "kernelspec": {
   "display_name": "Python 3 (ipykernel)",
   "language": "python",
   "name": "python3"
  },
  "language_info": {
   "codemirror_mode": {
    "name": "ipython",
    "version": 3
   },
   "file_extension": ".py",
   "mimetype": "text/x-python",
   "name": "python",
   "nbconvert_exporter": "python",
   "pygments_lexer": "ipython3",
   "version": "3.11.12"
  }
 },
 "nbformat": 4,
 "nbformat_minor": 5
}
